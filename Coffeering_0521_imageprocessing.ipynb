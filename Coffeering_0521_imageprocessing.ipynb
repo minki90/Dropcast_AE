{
 "cells": [
  {
   "cell_type": "markdown",
   "id": "62cb9a28",
   "metadata": {},
   "source": [
    "### COFFEE RING EFFECT"
   ]
  },
  {
   "cell_type": "markdown",
   "id": "26741117",
   "metadata": {},
   "source": [
    "Device connection"
   ]
  },
  {
   "cell_type": "code",
   "execution_count": 3,
   "id": "3871fd9b",
   "metadata": {},
   "outputs": [],
   "source": [
    "from cgi import test\n",
    "from optparse import Values\n",
    "from sqlite3 import Row\n",
    "from time import time\n",
    "import tkinter as tk\n",
    "from tkinter import ttk\n",
    "from turtle import width\n",
    "import pyvisa\n",
    "import time \n",
    "# import keyboard\n",
    "import time\n",
    "import cv2\n",
    "from PIL import Image, ImageTk\n",
    "from webbrowser import get\n",
    "import numpy as np\n",
    "import datetime as dt\n",
    "import matplotlib.pyplot as plt\n",
    "import matplotlib.animation as animation\n",
    "from matplotlib.backends.backend_tkagg import FigureCanvasTkAgg\n",
    "from matplotlib.figure import Figure\n",
    "import threading as th\n",
    "import minimalmodbus\n",
    "from skopt import Optimizer\n",
    "from skopt.plots import plot_objective\n",
    "from skopt.plots import plot_evaluations\n",
    "# from simple_pid import PID\n",
    "import os\n"
   ]
  },
  {
   "cell_type": "markdown",
   "id": "8d6b071f",
   "metadata": {},
   "source": [
    "system connection\n",
    "before connect please check the com number in your device"
   ]
  },
  {
   "cell_type": "code",
   "execution_count": 39,
   "id": "bf3e1728",
   "metadata": {},
   "outputs": [
    {
     "name": "stdout",
     "output_type": "stream",
     "text": [
      "('ASRL4::INSTR', 'ASRL5::INSTR', 'ASRL13::INSTR')\n"
     ]
    }
   ],
   "source": [
    "rm = pyvisa.ResourceManager()\n",
    "# usb connection name \n",
    "print(rm.list_resources()) \n",
    "# # connect the usb resource with python\n",
    "# com_hv1 = rm.open_resource('ASRL13::INSTR')\n",
    "# com_hv1.baud_rate = 9600\n",
    "# com_hv2 = rm.open_resource('ASRL12::INSTR')\n",
    "# # com_hv2.baud_rate = 9600\n",
    "com_pxpy = rm.open_resource('ASRL5::INSTR')\n",
    "com_pxpy.baud_rate = 921600\n",
    "com_syr = rm.open_resource('ASRL4::INSTR')\n",
    "com_syr.baud_rate = 115200\n",
    "com_hot = minimalmodbus.Instrument('com13', 1, minimalmodbus.MODE_RTU)\n",
    "com_hot.serial.baudrate = 115200"
   ]
  },
  {
   "cell_type": "markdown",
   "id": "6a6f026c",
   "metadata": {},
   "source": [
    "camera check"
   ]
  },
  {
   "cell_type": "code",
   "execution_count": 77,
   "id": "24c52fc9",
   "metadata": {},
   "outputs": [],
   "source": [
    "cap = cv2.VideoCapture(1)\n",
    "\n",
    "while True:\n",
    "    # Read the current frame from the webcam\n",
    "    ret, frame = cap.read()\n",
    "\n",
    "    # Display the frame in a window named \"Webcam\"\n",
    "    cv2.imshow('Webcam', frame)\n",
    "\n",
    "    # Break the loop if 'q' is pressed\n",
    "    if cv2.waitKey(1) & 0xFF == ord('q'):\n",
    "        break\n",
    "\n",
    "# Release the webcam and close the window\n",
    "cap.release()\n",
    "cv2.destroyAllWindows()"
   ]
  },
  {
   "cell_type": "code",
   "execution_count": null,
   "id": "c032221c",
   "metadata": {},
   "outputs": [],
   "source": [
    "from IPython.display import Image\n",
    "  \n",
    "# get the image\n",
    "Image(url=\"sample position.jpg\", width=300, height=300)"
   ]
  },
  {
   "cell_type": "markdown",
   "id": "43f64f81",
   "metadata": {},
   "source": [
    "Initial Position"
   ]
  },
  {
   "cell_type": "code",
   "execution_count": 57,
   "id": "94809481",
   "metadata": {},
   "outputs": [],
   "source": [
    "com_pxpy.write('1MO')\n",
    "com_pxpy.write('2MO')\n",
    "initial_position_x = com_pxpy.query_ascii_values('1TP?')\n",
    "initial_position_x = ''.join(str(element) for element in initial_position_x)\n",
    "initial_position_y = com_pxpy.query_ascii_values('2TP?')\n",
    "initial_position_y = ''.join(str(element) for element in initial_position_y)"
   ]
  },
  {
   "cell_type": "markdown",
   "id": "1c335672",
   "metadata": {},
   "source": [
    "Camera Position"
   ]
  },
  {
   "cell_type": "code",
   "execution_count": 66,
   "id": "ac33bc7e",
   "metadata": {},
   "outputs": [
    {
     "data": {
      "text/plain": [
       "(-53.04599999999999, -15.874499999999998)"
      ]
     },
     "execution_count": 66,
     "metadata": {},
     "output_type": "execute_result"
    }
   ],
   "source": [
    "camera_position_x = com_pxpy.query_ascii_values('1TP?')\n",
    "camera_position_x = ''.join(str(element) for element in camera_position_x)\n",
    "camera_position_y = com_pxpy.query_ascii_values('2TP?')\n",
    "camera_position_y = ''.join(str(element) for element in camera_position_y)\n",
    "\n",
    "\n",
    "dx=float(camera_position_x)-float(initial_position_x)\n",
    "dy=float(camera_position_y)-float(initial_position_y)\n",
    "dx,dy"
   ]
  },
  {
   "cell_type": "markdown",
   "id": "add97714",
   "metadata": {},
   "source": [
    "Parameter selection"
   ]
  },
  {
   "cell_type": "code",
   "execution_count": 82,
   "id": "09d3b2a0",
   "metadata": {},
   "outputs": [],
   "source": [
    "# parameter1 is ethanol concentration\n",
    "Parameter1=[0,100]\n",
    "# parameter2 is temperature of substrate\n",
    "Parameter2=[30,70]"
   ]
  },
  {
   "cell_type": "markdown",
   "id": "78894f62",
   "metadata": {},
   "source": [
    "Flush position"
   ]
  },
  {
   "cell_type": "code",
   "execution_count": 43,
   "id": "3d9fc2d6",
   "metadata": {},
   "outputs": [],
   "source": [
    "flush_position_x = com_pxpy.query_ascii_values('1TP?')\n",
    "flush_position_x = ''.join(str(element) for element in flush_position_x)\n",
    "flush_position_y = com_pxpy.query_ascii_values('2TP?')\n",
    "flush_position_y = ''.join(str(element) for element in flush_position_y)"
   ]
  },
  {
   "cell_type": "markdown",
   "id": "c8022fe0",
   "metadata": {},
   "source": [
    "Flush"
   ]
  },
  {
   "cell_type": "code",
   "execution_count": 71,
   "id": "c3478e22",
   "metadata": {},
   "outputs": [],
   "source": [
    "def flush(sample1_volume,sample2_volume):\n",
    "#     move to flush position\n",
    "    com_pxpy.write('1PA'+flush_position_x)\n",
    "    com_pxpy.write('2PA'+flush_position_y)\n",
    "#     infuse flow\n",
    "\n",
    "    com_syr.write('0svolume 5 ml')\n",
    "    time.sleep(0.1)\n",
    "    com_syr.write('0diameter '+str(sy_dia))\n",
    "    time.sleep(0.1)\n",
    "    com_syr.write('0irate '+str(sample1_volume) +' ul/min')\n",
    "    time.sleep(0.1)\n",
    "    com_syr.write('0tvolume '+str(3*sample1_volume)+' ul')\n",
    "    time.sleep(0.1)\n",
    "    com_syr.write('0irun')\n",
    "    time.sleep(0.2)\n",
    "\n",
    "    \n",
    "    com_syr.write('2svolume 5 ml')\n",
    "    time.sleep(0.1)\n",
    "    com_syr.write('2diameter '+str(sy_dia))\n",
    "    time.sleep(0.1)\n",
    "    com_syr.write('2irate '+str(sample2_volume) +' ul/min')\n",
    "    time.sleep(0.1)\n",
    "    com_syr.write('2tvolume '+str(3*sample2_volume)+ ' ul')\n",
    "    time.sleep(0.1)\n",
    "    com_syr.write('2irun')\n",
    "    time.sleep(0.1)\n"
   ]
  },
  {
   "cell_type": "code",
   "execution_count": null,
   "id": "7483324c",
   "metadata": {},
   "outputs": [],
   "source": [
    "# com_syr.write('2svolume 5 ml')\n",
    "# com_syr.write('2diameter 8.6')\n",
    "# com_syr.write('2irate 10 ul/min')\n",
    "# com_syr.write('2tvolume 10 ul')\n",
    "com_syr.write('2irun')"
   ]
  },
  {
   "cell_type": "code",
   "execution_count": 16,
   "id": "da489a47",
   "metadata": {},
   "outputs": [
    {
     "data": {
      "text/plain": [
       "7"
      ]
     },
     "execution_count": 16,
     "metadata": {},
     "output_type": "execute_result"
    }
   ],
   "source": [
    "com_syr.write('2stop')\n",
    "com_syr.write('0stop')"
   ]
  },
  {
   "cell_type": "code",
   "execution_count": 52,
   "id": "008d4960",
   "metadata": {},
   "outputs": [],
   "source": [
    "flo=float(70)\n",
    "com_hot.write_float(548,flo)"
   ]
  },
  {
   "cell_type": "code",
   "execution_count": 50,
   "id": "27fec6de",
   "metadata": {},
   "outputs": [
    {
     "data": {
      "text/plain": [
       "False"
      ]
     },
     "execution_count": 50,
     "metadata": {},
     "output_type": "execute_result"
    }
   ],
   "source": [
    "set_temp=30\n",
    "current_temperature=com_hot.read_float(528)\n",
    "set_temp-current_temperature>1"
   ]
  },
  {
   "cell_type": "code",
   "execution_count": 73,
   "id": "7370edab",
   "metadata": {},
   "outputs": [],
   "source": [
    "flush(3,3)"
   ]
  },
  {
   "cell_type": "code",
   "execution_count": null,
   "id": "76411f2b",
   "metadata": {},
   "outputs": [],
   "source": [
    "sample2_volume=400\n",
    "sy_dia=8.66\n",
    "\n",
    "com_syr.write('2svolume 5 ml')\n",
    "time.sleep(0.1)\n",
    "com_syr.write('2diameter '+str(sy_dia))\n",
    "time.sleep(0.1)\n",
    "com_syr.write('2irate '+str(sample2_volume) +' ul/min')\n",
    "time.sleep(0.1)\n",
    "com_syr.write('2tvolume '+str(400)+ ' ul')\n",
    "time.sleep(0.1)\n",
    "com_syr.write('2irun')"
   ]
  },
  {
   "cell_type": "code",
   "execution_count": null,
   "id": "a3198c3e",
   "metadata": {},
   "outputs": [],
   "source": [
    "sample1_volume=200\n",
    "2*sample1_volume"
   ]
  },
  {
   "cell_type": "code",
   "execution_count": null,
   "id": "d9a16361",
   "metadata": {},
   "outputs": [],
   "source": [
    "com_syr.write('2stop')"
   ]
  },
  {
   "cell_type": "markdown",
   "id": "71965d61",
   "metadata": {},
   "source": [
    "Capture Image and Save"
   ]
  },
  {
   "cell_type": "code",
   "execution_count": 2,
   "id": "938d02ca",
   "metadata": {},
   "outputs": [],
   "source": [
    "def capture_and_save_image(image_name):\n",
    "    save_path = \"image\"  # Specify the directory where you want to save the images\n",
    "    \n",
    "    cap = cv2.VideoCapture(1)\n",
    "      # Capture frame from the camera\n",
    "    ret, frame = cap.read()\n",
    "     # Save the captured frame with the specified name\n",
    "    image_path = f\"{save_path}/{image_name}.jpg\"\n",
    "    cv2.imwrite(image_path, frame)\n",
    "    # Release the camera\n",
    "    cap.release()\n",
    "#     print(f\"Image saved successfully at: {image_path}\")\n",
    "    \n",
    "    # Display the captured image\n",
    "#     cv2.imshow(\"Captured Image\", frame)\n",
    "#     cv2.waitKey(0)\n",
    "#     cv2.destroyAllWindows()\n",
    "\n",
    "#     image_name = \"iteration\"+i  # Specify the name of the image (without extension)"
   ]
  },
  {
   "cell_type": "markdown",
   "id": "1a3d3e07",
   "metadata": {},
   "source": [
    "Image processing"
   ]
  },
  {
   "cell_type": "code",
   "execution_count": 101,
   "id": "14d2bfe7",
   "metadata": {},
   "outputs": [],
   "source": [
    "def process_image(image_path):\n",
    "    # Read the image from the specified path\n",
    "    image = cv2.imread(image_path)\n",
    "    \n",
    "    \n",
    "    height, width = image.shape[:2]\n",
    "    crop_size = min(height, width) // 2\n",
    "    center_x = width // 2\n",
    "    center_y = height // 2\n",
    "    x1 = center_x - crop_size \n",
    "    x2 = center_x + crop_size+200\n",
    "    y1 = center_y - crop_size\n",
    "    y2 = center_y + crop_size\n",
    "    cropped_image = image[y1:y2, x1:x2]\n",
    "   \n",
    "\n",
    "   # Convert the cropped image to the LAB color space\n",
    "    lab_image = cv2.cvtColor(cropped_image, cv2.COLOR_BGR2LAB)\n",
    "\n",
    "    # Split LAB image channels\n",
    "    l_channel, _, _ = cv2.split(lab_image)\n",
    "\n",
    "    # Apply adaptive thresholding to the L channel\n",
    "    _, threshold = cv2.threshold(l_channel, 0, 255, cv2.THRESH_BINARY + cv2.THRESH_OTSU)\n",
    "\n",
    "    # Find contours of white areas\n",
    "    contours, _ = cv2.findContours(threshold, cv2.RETR_EXTERNAL, cv2.CHAIN_APPROX_SIMPLE)\n",
    "\n",
    "    # Create a mask for white areas\n",
    "    mask = np.zeros_like(cropped_image)\n",
    "    cv2.drawContours(mask, contours, -1, (255, 255, 255), thickness=cv2.FILLED)\n",
    "\n",
    "    # Apply the mask to the cropped image\n",
    "    result = cv2.bitwise_and(cropped_image, mask)\n",
    "\n",
    "    # Convert the result to grayscale\n",
    "    gray_result = cv2.cvtColor(result, cv2.COLOR_BGR2GRAY)\n",
    "\n",
    "    # Display the original image and the result\n",
    "    cv2.imshow(\"Original Image\", image)\n",
    "    cv2.imshow(\"White Areas\", gray_result)\n",
    "    cv2.waitKey(0)  # Wait for any key press to close the image windows\n",
    "    cv2.destroyAllWindows()  # Close all the opened image windows\n",
    "\n",
    "    # Calculate the total area of white areas\n",
    "    white_area = cv2.countNonZero(gray_result)\n",
    "\n",
    "    return white_area"
   ]
  },
  {
   "cell_type": "markdown",
   "id": "5978ed65",
   "metadata": {},
   "source": [
    "Initial Condition"
   ]
  },
  {
   "cell_type": "code",
   "execution_count": 68,
   "id": "2f256460",
   "metadata": {},
   "outputs": [],
   "source": [
    "maximum_iteration=3\n",
    "sample_distance=10\n",
    "total_volume=5\n",
    "file_path=\"image\"\n",
    "sy_dia=8.66\n",
    "evaporation_time=1800\n",
    "dispense_time=10\n",
    "flush=10"
   ]
  },
  {
   "cell_type": "markdown",
   "id": "6ecc9074",
   "metadata": {},
   "source": [
    "Bayesian optimization"
   ]
  },
  {
   "cell_type": "code",
   "execution_count": 83,
   "id": "504c9c48",
   "metadata": {},
   "outputs": [],
   "source": [
    "opt = Optimizer([Parameter1,Parameter2], \"GP\", acq_func='EI',\n",
    "                acq_optimizer=\"sampling\",initial_point_generator=\"lhs\",\n",
    "                n_initial_points=1)"
   ]
  },
  {
   "cell_type": "markdown",
   "id": "10da5e3f",
   "metadata": {},
   "source": [
    "Start Optimizing with bayesian optimization"
   ]
  },
  {
   "cell_type": "code",
   "execution_count": null,
   "id": "d9621d19",
   "metadata": {},
   "outputs": [
    {
     "name": "stdout",
     "output_type": "stream",
     "text": [
      "2iteration\n",
      "parameter:(1.5, 3.5, 56)\n",
      "waiting temperature\n",
      "waiting temperature\n",
      "waiting temperature\n",
      "waiting temperature\n",
      "flush\n",
      "evaporation\n",
      "result:-8972\n",
      "finish 2iteration\n",
      "3iteration\n",
      "parameter:(4.95, 0.05, 30)\n",
      "waiting temperature\n",
      "waiting temperature\n",
      "waiting temperature\n",
      "waiting temperature\n",
      "waiting temperature\n",
      "waiting temperature\n",
      "waiting temperature\n",
      "waiting temperature\n",
      "waiting temperature\n",
      "waiting temperature\n",
      "waiting temperature\n",
      "waiting temperature\n",
      "waiting temperature\n",
      "waiting temperature\n",
      "waiting temperature\n",
      "waiting temperature\n",
      "waiting temperature\n",
      "waiting temperature\n",
      "waiting temperature\n",
      "waiting temperature\n",
      "waiting temperature\n",
      "waiting temperature\n",
      "waiting temperature\n",
      "waiting temperature\n",
      "waiting temperature\n",
      "waiting temperature\n",
      "waiting temperature\n",
      "waiting temperature\n",
      "waiting temperature\n",
      "waiting temperature\n",
      "waiting temperature\n",
      "waiting temperature\n",
      "waiting temperature\n",
      "waiting temperature\n",
      "waiting temperature\n",
      "waiting temperature\n",
      "waiting temperature\n",
      "waiting temperature\n",
      "waiting temperature\n",
      "waiting temperature\n",
      "waiting temperature\n",
      "waiting temperature\n",
      "waiting temperature\n",
      "waiting temperature\n",
      "waiting temperature\n",
      "waiting temperature\n",
      "waiting temperature\n",
      "waiting temperature\n",
      "waiting temperature\n",
      "waiting temperature\n",
      "waiting temperature\n",
      "waiting temperature\n",
      "waiting temperature\n",
      "waiting temperature\n",
      "waiting temperature\n",
      "waiting temperature\n",
      "waiting temperature\n",
      "waiting temperature\n",
      "waiting temperature\n",
      "waiting temperature\n",
      "waiting temperature\n",
      "waiting temperature\n",
      "waiting temperature\n",
      "waiting temperature\n",
      "waiting temperature\n",
      "waiting temperature\n",
      "waiting temperature\n",
      "waiting temperature\n",
      "waiting temperature\n",
      "waiting temperature\n",
      "waiting temperature\n",
      "waiting temperature\n",
      "waiting temperature\n",
      "waiting temperature\n",
      "waiting temperature\n",
      "waiting temperature\n",
      "waiting temperature\n",
      "waiting temperature\n",
      "waiting temperature\n",
      "waiting temperature\n",
      "waiting temperature\n",
      "waiting temperature\n",
      "waiting temperature\n",
      "waiting temperature\n",
      "waiting temperature\n",
      "waiting temperature\n",
      "waiting temperature\n",
      "waiting temperature\n",
      "waiting temperature\n",
      "waiting temperature\n",
      "waiting temperature\n",
      "waiting temperature\n",
      "flush\n",
      "evaporation\n"
     ]
    }
   ],
   "source": [
    "for i in range(2,30):\n",
    "    print(f'{i}iteration')\n",
    "#     sample position divide\n",
    "    a,b=divmod(i,7)\n",
    "    position_x=str(float(initial_position_x)+(sample_distance*int(b-1)))\n",
    "    position_y=str(float(initial_position_y)-(sample_distance*int(a)))\n",
    "    \n",
    "\n",
    "#     flow rate determine\n",
    "    next_x = np.round(opt.ask(),1).tolist()\n",
    "    sample1_volume=total_volume*(100-next_x[0])/100\n",
    "    sample1_flowrate=sample1_volume/60   \n",
    "    sample2_volume=total_volume*(next_x[0])/100\n",
    "    sample2_flowrate=sample2_volume/60   \n",
    "#     temperature set  \n",
    "    set_temp=next_x[1]\n",
    "    flo=float(set_temp)\n",
    "    com_hot.write_float(548,flo)\n",
    "    current_temp=com_hot.read_float(528)\n",
    "    \n",
    "    print(f'parameter:{sample1_volume,sample2_volume,set_temp}')\n",
    "    \n",
    "    \n",
    "    \n",
    "    while abs(current_temp-set_temp)>=1:\n",
    "            time.sleep(30)\n",
    "            print('waiting temperature')\n",
    "            current_temp=com_hot.read_float(528)\n",
    "\n",
    "#      move to flush\n",
    "    flush(sample1_volume,sample2_volume)\n",
    "    print('flush')\n",
    "    time.sleep(180)\n",
    "    \n",
    "      \n",
    "#     move to new position      \n",
    "    com_pxpy.write('1PA'+ position_x)\n",
    "    com_pxpy.write('2PA'+ position_y)\n",
    "    time.sleep(5)\n",
    "        \n",
    "#     infuse to new position\n",
    "    com_syr.write('0svolume 5 ml')\n",
    "    time.sleep(0.2)\n",
    "    com_syr.write('0diameter '+str(sy_dia))\n",
    "    time.sleep(0.2)\n",
    "    com_syr.write('0irate '+str(sample1_volume) +' ul/min')\n",
    "    time.sleep(0.2)\n",
    "    com_syr.write('0tvolume '+str(sample1_volume)+' ul')\n",
    "    time.sleep(0.2)        \n",
    "    com_syr.write('2svolume 5 ml')\n",
    "    time.sleep(0.2)\n",
    "    com_syr.write('2diameter '+str(sy_dia))\n",
    "    time.sleep(0.2)\n",
    "    com_syr.write('2irate '+str(sample2_volume) +' ul/min')\n",
    "    time.sleep(0.2)\n",
    "    com_syr.write('2tvolume '+str(sample2_volume)+ ' ul')\n",
    "    time.sleep(0.2)\n",
    "    \n",
    "    com_syr.write('0irun')\n",
    "    time.sleep(0.2)\n",
    "    com_syr.write('2irun')\n",
    "    time.sleep(60)\n",
    "    \n",
    "    \n",
    "# Move to camera\n",
    "\n",
    "    com_pxpy.write('1PR'+ str(dx))\n",
    "    com_pxpy.write('2PR'+ str(dy))\n",
    "\n",
    "#  evaporation time\n",
    "    print('evaporation')\n",
    "    time.sleep((-0.5*set_temp+45)*60)\n",
    "    \n",
    "    \n",
    "#    capturing and image processing\n",
    "    \n",
    "    capture_and_save_image(i)\n",
    "    time.sleep(10)\n",
    "    edge_area=process_image('image/{}.jpg'.format(i))      \n",
    "    time.sleep(2)\n",
    "#     tell to bayesian optimization    \n",
    "    f_val = -edge_area\n",
    "    print(f'result:{f_val}')\n",
    "    res = opt.tell(next_x, f_val)\n",
    "    print(f'finish {i}iteration')"
   ]
  },
  {
   "cell_type": "markdown",
   "id": "f7f7b124",
   "metadata": {},
   "source": [
    "### System check"
   ]
  },
  {
   "cell_type": "code",
   "execution_count": null,
   "id": "325aace1",
   "metadata": {},
   "outputs": [],
   "source": [
    "com_pxpy.write('1PA'+ initial_position_x)\n",
    "com_pxpy.write('2PA'+ initial_position_y)"
   ]
  },
  {
   "cell_type": "code",
   "execution_count": null,
   "id": "ddd879ca",
   "metadata": {},
   "outputs": [],
   "source": [
    "com_pxpy.write('1PA'+ camera_position_x)\n",
    "com_pxpy.write('2PA'+ camera_position_y)"
   ]
  },
  {
   "cell_type": "code",
   "execution_count": 136,
   "id": "76fc29be",
   "metadata": {},
   "outputs": [
    {
     "data": {
      "text/plain": [
       "12521"
      ]
     },
     "execution_count": 136,
     "metadata": {},
     "output_type": "execute_result"
    }
   ],
   "source": [
    "# capture_and_save_image(1)\n",
    "# time.sleep(10)\n",
    "edge_area=process_image('image/{}.jpg'.format(2))      \n",
    "edge_area"
   ]
  },
  {
   "cell_type": "code",
   "execution_count": 80,
   "id": "e45a8f60",
   "metadata": {},
   "outputs": [
    {
     "data": {
      "text/plain": [
       "1530.0"
      ]
     },
     "execution_count": 80,
     "metadata": {},
     "output_type": "execute_result"
    }
   ],
   "source": [
    "(-0.5*set_temp+45)*60"
   ]
  },
  {
   "cell_type": "code",
   "execution_count": 75,
   "id": "ca752128",
   "metadata": {},
   "outputs": [
    {
     "data": {
      "text/plain": [
       "7"
      ]
     },
     "execution_count": 75,
     "metadata": {},
     "output_type": "execute_result"
    }
   ],
   "source": [
    "sample1_volume=2.5\n",
    "sample2_volume=2.5\n",
    "com_syr.write('0svolume 5 ml')\n",
    "time.sleep(0.2)\n",
    "com_syr.write('0diameter '+str(sy_dia))\n",
    "time.sleep(0.2)\n",
    "com_syr.write('0irate '+str(sample1_volume) +' ul/min')\n",
    "time.sleep(0.2)\n",
    "com_syr.write('0tvolume '+str(sample1_volume)+' ul')\n",
    "time.sleep(0.2)        \n",
    "com_syr.write('2svolume 5 ml')\n",
    "time.sleep(0.2)\n",
    "com_syr.write('2diameter '+str(sy_dia))\n",
    "time.sleep(0.2)\n",
    "com_syr.write('2irate '+str(sample2_volume) +' ul/min')\n",
    "time.sleep(0.2)\n",
    "com_syr.write('2tvolume '+str(sample2_volume)+ ' ul')\n",
    "time.sleep(0.2)\n",
    "    \n",
    "com_syr.write('0irun')\n",
    "time.sleep(0.2)\n",
    "com_syr.write('2irun')\n"
   ]
  },
  {
   "cell_type": "code",
   "execution_count": 103,
   "id": "e7a6419c",
   "metadata": {},
   "outputs": [
    {
     "ename": "error",
     "evalue": "OpenCV(4.6.0) D:\\a\\opencv-python\\opencv-python\\opencv\\modules\\highgui\\src\\window.cpp:967: error: (-215:Assertion failed) size.width>0 && size.height>0 in function 'cv::imshow'\n",
     "output_type": "error",
     "traceback": [
      "\u001b[1;31m---------------------------------------------------------------------------\u001b[0m",
      "\u001b[1;31merror\u001b[0m                                     Traceback (most recent call last)",
      "Input \u001b[1;32mIn [103]\u001b[0m, in \u001b[0;36m<cell line: 5>\u001b[1;34m()\u001b[0m\n\u001b[0;32m      5\u001b[0m ret, frame \u001b[38;5;241m=\u001b[39m cap\u001b[38;5;241m.\u001b[39mread()\n\u001b[0;32m      7\u001b[0m \u001b[38;5;66;03m# Display the frame in a window named \"Webcam\"\u001b[39;00m\n\u001b[1;32m----> 8\u001b[0m \u001b[43mcv2\u001b[49m\u001b[38;5;241;43m.\u001b[39;49m\u001b[43mimshow\u001b[49m\u001b[43m(\u001b[49m\u001b[38;5;124;43m'\u001b[39;49m\u001b[38;5;124;43mWebcam\u001b[39;49m\u001b[38;5;124;43m'\u001b[39;49m\u001b[43m,\u001b[49m\u001b[43m \u001b[49m\u001b[43mframe\u001b[49m\u001b[43m)\u001b[49m\n\u001b[0;32m     10\u001b[0m \u001b[38;5;66;03m# Break the loop if 'q' is pressed\u001b[39;00m\n\u001b[0;32m     11\u001b[0m \u001b[38;5;28;01mif\u001b[39;00m cv2\u001b[38;5;241m.\u001b[39mwaitKey(\u001b[38;5;241m1\u001b[39m) \u001b[38;5;241m&\u001b[39m \u001b[38;5;241m0xFF\u001b[39m \u001b[38;5;241m==\u001b[39m \u001b[38;5;28mord\u001b[39m(\u001b[38;5;124m'\u001b[39m\u001b[38;5;124mq\u001b[39m\u001b[38;5;124m'\u001b[39m):\n",
      "\u001b[1;31merror\u001b[0m: OpenCV(4.6.0) D:\\a\\opencv-python\\opencv-python\\opencv\\modules\\highgui\\src\\window.cpp:967: error: (-215:Assertion failed) size.width>0 && size.height>0 in function 'cv::imshow'\n"
     ]
    }
   ],
   "source": [
    "cap = cv2.VideoCapture(1)\n",
    "\n",
    "while True:\n",
    "    # Read the current frame from the webcam\n",
    "    ret, frame = cap.read()\n",
    "\n",
    "    # Display the frame in a window named \"Webcam\"\n",
    "    cv2.imshow('Webcam', frame)\n",
    "\n",
    "    # Break the loop if 'q' is pressed\n",
    "    if cv2.waitKey(1) & 0xFF == ord('q'):\n",
    "        break\n",
    "\n",
    "# Release the webcam and close the window\n",
    "cap.release()\n",
    "cv2.destroyAllWindows()"
   ]
  },
  {
   "cell_type": "code",
   "execution_count": 2,
   "id": "163b0280",
   "metadata": {},
   "outputs": [],
   "source": [
    "import numpy as np\n",
    "import matplotlib.pyplot as plt\n",
    "from sklearn.gaussian_process import GaussianProcessRegressor\n",
    "import pandas as pd\n",
    "from sklearn.gaussian_process.kernels import DotProduct, WhiteKernel\n",
    "from sklearn.model_selection import train_test_split\n",
    "from numpy import hstack\n",
    "from sklearn.gaussian_process.kernels import RBF, ConstantKernel as C\n",
    "from sklearn.gaussian_process.kernels import Matern"
   ]
  },
  {
   "cell_type": "code",
   "execution_count": 9,
   "id": "9d190228",
   "metadata": {},
   "outputs": [],
   "source": [
    "df = pd.read_excel('output0602_50.xlsx', engine='openpyxl')\n",
    "x1 = df.drop(['area'], axis=1)\n",
    "\n",
    "# set y = diameter\n",
    "y1=df['y']\n",
    "z1=df['area']\n",
    "# split the data for train and test\n",
    "# trainX, testX, trainY, testY = train_test_split(x, y, test_size = 0.2)"
   ]
  },
  {
   "cell_type": "code",
   "execution_count": 6,
   "id": "8fdfcfa9",
   "metadata": {},
   "outputs": [
    {
     "name": "stderr",
     "output_type": "stream",
     "text": [
      "C:\\Users\\minki lee\\AppData\\Roaming\\Python\\Python39\\site-packages\\sklearn\\gaussian_process\\kernels.py:430: ConvergenceWarning: The optimal value found for dimension 0 of parameter k1__constant_value is close to the specified upper bound 100000.0. Increasing the bound and calling fit again may find a better value.\n",
      "  warnings.warn(\n",
      "C:\\Users\\minki lee\\AppData\\Roaming\\Python\\Python39\\site-packages\\sklearn\\gaussian_process\\kernels.py:430: ConvergenceWarning: The optimal value found for dimension 0 of parameter k2__length_scale is close to the specified upper bound 100000.0. Increasing the bound and calling fit again may find a better value.\n",
      "  warnings.warn(\n"
     ]
    },
    {
     "data": {
      "text/plain": [
       "0.9922245355544936"
      ]
     },
     "execution_count": 6,
     "metadata": {},
     "output_type": "execute_result"
    }
   ],
   "source": [
    "# kernel = DotProduct() + WhiteKernel()\n",
    "kernel = 1.0 * Matern(length_scale=10.0, nu=1)\n",
    "# kernel =1*RBF(10.0)\n",
    "# kernel = C(1.0, (1e-3, 1e3)) * RBF([5,5], (1e-2, 1e2))\n",
    "gpr = GaussianProcessRegressor(kernel=kernel).fit(x1,z1)\n",
    "gpr.score(x1, z1)"
   ]
  },
  {
   "cell_type": "code",
   "execution_count": 230,
   "id": "6d44136d",
   "metadata": {},
   "outputs": [
    {
     "data": {
      "text/plain": [
       "array([57,  3, 27, 97, 78, 28, 65, 20, 24, 31, 93, 31, 34, 26, 26, 26, 27,\n",
       "       99, 95, 27, 97, 97, 20, 31, 29, 29, 31, 27,  8], dtype=int64)"
      ]
     },
     "execution_count": 230,
     "metadata": {},
     "output_type": "execute_result"
    }
   ],
   "source": [
    "np.array(x1)[:,0]"
   ]
  },
  {
   "cell_type": "code",
   "execution_count": 236,
   "id": "009bddfd",
   "metadata": {},
   "outputs": [
    {
     "name": "stderr",
     "output_type": "stream",
     "text": [
      "C:\\Users\\minki lee\\AppData\\Roaming\\Python\\Python39\\site-packages\\sklearn\\base.py:450: UserWarning: X does not have valid feature names, but GaussianProcessRegressor was fitted with feature names\n",
      "  warnings.warn(\n"
     ]
    },
    {
     "data": {
      "text/plain": [
       "array([-6120.99804688])"
      ]
     },
     "execution_count": 236,
     "metadata": {},
     "output_type": "execute_result"
    }
   ],
   "source": [
    "gpr.predict([[29,69]])\n"
   ]
  },
  {
   "cell_type": "code",
   "execution_count": 10,
   "id": "db4b32f7",
   "metadata": {},
   "outputs": [
    {
     "data": {
      "image/png": "[encoded data removed]",
      "text/plain": [
       "<Figure size 864x720 with 2 Axes>"
      ]
     },
     "metadata": {
      "needs_background": "light"
     },
     "output_type": "display_data"
    }
   ],
   "source": [
    "from matplotlib.ticker import MultipleLocator\n",
    "\n",
    "fig, ax = plt.subplots(figsize=(12, 10))\n",
    "sc = ax.scatter(np.array(x1)[:,0], np.array(x1)[:,1], s=400, c=np.array(z1), cmap=\"viridis\")\n",
    "ax.set_title(\"coffee ring\", fontsize=40)\n",
    "ax.set_xlabel(\"water concentration(%)\", fontsize=30)\n",
    "ax.set_ylabel(\"temperature(celsius)\", fontsize=30)\n",
    "plt.xticks(fontsize=30)\n",
    "plt.yticks(fontsize=30)\n",
    "# cbar = fig.colorbar(sc)\n",
    "cbar = fig.colorbar(sc, spacing='proportional')\n",
    "ax.set_xlim(0, 100)  # set x-axis limits\n",
    "ax.set_ylim(30, 80)  # set y-axis limits\n",
    "ax.yaxis.set_major_locator(MultipleLocator(20))  # set y-axis tick interval to 20\n",
    "plt.show()"
   ]
  },
  {
   "cell_type": "code",
   "execution_count": 8,
   "id": "ac644c6f",
   "metadata": {},
   "outputs": [
    {
     "name": "stderr",
     "output_type": "stream",
     "text": [
      "C:\\Users\\minki lee\\AppData\\Roaming\\Python\\Python39\\site-packages\\sklearn\\base.py:450: UserWarning: X does not have valid feature names, but GaussianProcessRegressor was fitted with feature names\n",
      "  warnings.warn(\n"
     ]
    },
    {
     "data": {
      "image/png": "[encoded data removed]",
      "text/plain": [
       "<Figure size 864x720 with 2 Axes>"
      ]
     },
     "metadata": {
      "needs_background": "light"
     },
     "output_type": "display_data"
    }
   ],
   "source": [
    "xlist = np.linspace(0, 100, 100)\n",
    "ylist = np.linspace(35, 80, 100)\n",
    "\n",
    "xx,yy=np.meshgrid(xlist,ylist)\n",
    "r1, r2 = xx.flatten(), yy.flatten()\n",
    "\n",
    "r1, r2 = r1.reshape((len(r1), 1)), r2.reshape((len(r2), 1))\n",
    "\n",
    "\n",
    "\n",
    "grid = hstack((r1,r2))\n",
    "ss_pred = gpr.predict(grid)\n",
    "\n",
    "zz = ss_pred.reshape(xx.shape)\n",
    "fig, ax = plt.subplots(figsize=(12, 10))\n",
    "cs = ax.contourf(xlist, ylist, zz, 100,\n",
    "                  \n",
    "                  cmap =\"viridis\")\n",
    "# plt.scatter(np.array(x1)[:,0],np.array(x1)[:,1], 400, c=np.array(y1),cmap =\"viridis\")\n",
    "\n",
    "cbar = plt.colorbar(cs)\n",
    "# cbar.ax.locator_params(nbins=5)\n",
    "# cbar.ax.tick_params(labelsize=15)\n",
    "\n",
    "plt.xlabel('PS concentration (%)', fontsize=30)\n",
    "plt.ylabel('Annealing time (min)', fontsize=30)\n",
    "plt.xticks(fontsize=30)\n",
    "plt.yticks(fontsize=30)\n",
    "plt.title('Contact angle of film',fontsize=40)\n",
    "plt.show()"
   ]
  }
 ],
 "metadata": {
  "kernelspec": {
   "display_name": "Python 3 (ipykernel)",
   "language": "python",
   "name": "python3"
  },
  "language_info": {
   "codemirror_mode": {
    "name": "ipython",
    "version": 3
   },
   "file_extension": ".py",
   "mimetype": "text/x-python",
   "name": "python",
   "nbconvert_exporter": "python",
   "pygments_lexer": "ipython3",
   "version": "3.9.12"
  }
 },
 "nbformat": 4,
 "nbformat_minor": 5
}
